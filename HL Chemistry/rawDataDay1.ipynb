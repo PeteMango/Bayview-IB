import numpy as np
import matplotlib.pyplot as plt

time = np.array([0,2,4,6,8,10,12,14,16,18,20,22,24,26,28,30]);
r1 = np.array([298.02,297.71,297.39,297.12,296.90,296.72,296.61,296.51,296.40,296.29,296.27,296.31,296.44,296.52,296.66,296.73])
plt.plot(time, r1, 'o');
plt.axvline(x=0)

m, b = np.polyfit(time[13:], r1[13:], 1)
plt.plot(time, m * time + b )


plt.title('Reaction Profile of Reaction 1')
plt.xlabel('Reaction Time (s) ± 1s')
plt.ylabel('Temperature (°C)')

plt.show()
print('Corrected Final Temperature of Reaction 1: ', "{:.2f}".format(b), '°C') 
