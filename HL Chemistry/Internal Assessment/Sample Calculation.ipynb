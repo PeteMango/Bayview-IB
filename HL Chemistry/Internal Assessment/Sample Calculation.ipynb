import numpy as np
import matplotlib.pyplot as plt

time = np.array([0, 2, 4, 6, 8, 10, 12, 14, 16, 18, 20, 22])
r1 = np.array([295.5, 294.5, 293.7, 293.0, 292.5, 292.3, 292.3, 292.3, 293.0, 293.7, 294.4, 295.1])
plt.plot(time, r1, 'o');
plt.axvline(x=0)

m, b = np.polyfit(time[9:], r1[9:], 1)
plt.plot(time, m * time + b )


plt.title('Reaction Profile of Sample Calculation at 303K')
plt.xlabel('Reaction Time (s) ± 0.1s')
plt.ylabel('Temperature (K) ± 0.01s')

plt.show()
print('Corrected Final Temperature of Sample Calculation is: ', "{:.1f}".format(b), 'K') 
